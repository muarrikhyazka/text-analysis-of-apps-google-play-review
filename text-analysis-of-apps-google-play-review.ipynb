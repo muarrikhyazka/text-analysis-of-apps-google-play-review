{
 "cells": [
  {
   "cell_type": "code",
   "execution_count": 19,
   "id": "3ecddf66",
   "metadata": {},
   "outputs": [
    {
     "name": "stdout",
     "output_type": "stream",
     "text": [
      "Requirement already satisfied: google_play_scraper in c:\\users\\muarrikh yazka\\anaconda3\\lib\\site-packages (1.2.2)\n",
      "Requirement already satisfied: wordcloud in c:\\users\\muarrikh yazka\\anaconda3\\lib\\site-packages (1.8.2.2)\n",
      "Requirement already satisfied: matplotlib in c:\\users\\muarrikh yazka\\appdata\\roaming\\python\\python38\\site-packages (from wordcloud) (3.7.0)\n",
      "Requirement already satisfied: numpy>=1.6.1 in c:\\users\\muarrikh yazka\\appdata\\roaming\\python\\python38\\site-packages (from wordcloud) (1.24.2)\n",
      "Requirement already satisfied: pillow in c:\\users\\muarrikh yazka\\anaconda3\\lib\\site-packages (from wordcloud) (8.2.0)\n",
      "Requirement already satisfied: importlib-resources>=3.2.0 in c:\\users\\muarrikh yazka\\anaconda3\\lib\\site-packages (from matplotlib->wordcloud) (5.10.2)\n",
      "Requirement already satisfied: kiwisolver>=1.0.1 in c:\\users\\muarrikh yazka\\anaconda3\\lib\\site-packages (from matplotlib->wordcloud) (1.3.1)\n",
      "Requirement already satisfied: fonttools>=4.22.0 in c:\\users\\muarrikh yazka\\appdata\\roaming\\python\\python38\\site-packages (from matplotlib->wordcloud) (4.38.0)\n",
      "Requirement already satisfied: cycler>=0.10 in c:\\users\\muarrikh yazka\\anaconda3\\lib\\site-packages (from matplotlib->wordcloud) (0.10.0)\n",
      "Requirement already satisfied: packaging>=20.0 in c:\\users\\muarrikh yazka\\anaconda3\\lib\\site-packages (from matplotlib->wordcloud) (21.3)\n",
      "Requirement already satisfied: pyparsing>=2.3.1 in c:\\users\\muarrikh yazka\\anaconda3\\lib\\site-packages (from matplotlib->wordcloud) (2.4.7)\n",
      "Requirement already satisfied: contourpy>=1.0.1 in c:\\users\\muarrikh yazka\\appdata\\roaming\\python\\python38\\site-packages (from matplotlib->wordcloud) (1.0.7)\n",
      "Requirement already satisfied: python-dateutil>=2.7 in c:\\users\\muarrikh yazka\\anaconda3\\lib\\site-packages (from matplotlib->wordcloud) (2.8.1)\n",
      "Requirement already satisfied: six in c:\\users\\muarrikh yazka\\anaconda3\\lib\\site-packages (from cycler>=0.10->matplotlib->wordcloud) (1.15.0)\n",
      "Requirement already satisfied: zipp>=3.1.0 in c:\\users\\muarrikh yazka\\anaconda3\\lib\\site-packages (from importlib-resources>=3.2.0->matplotlib->wordcloud) (3.4.1)\n"
     ]
    },
    {
     "name": "stderr",
     "output_type": "stream",
     "text": [
      "[nltk_data] Downloading package stopwords to C:\\Users\\Muarrikh\n",
      "[nltk_data]     Yazka\\AppData\\Roaming\\nltk_data...\n",
      "[nltk_data]   Package stopwords is already up-to-date!\n",
      "[nltk_data] Downloading package wordnet to C:\\Users\\Muarrikh\n",
      "[nltk_data]     Yazka\\AppData\\Roaming\\nltk_data...\n",
      "[nltk_data]   Package wordnet is already up-to-date!\n",
      "[nltk_data] Downloading package punkt to C:\\Users\\Muarrikh\n",
      "[nltk_data]     Yazka\\AppData\\Roaming\\nltk_data...\n",
      "[nltk_data]   Package punkt is already up-to-date!\n"
     ]
    },
    {
     "name": "stdout",
     "output_type": "stream",
     "text": [
      "Requirement already satisfied: textblob in c:\\users\\muarrikh yazka\\anaconda3\\lib\\site-packages (0.17.1)\n",
      "Requirement already satisfied: nltk>=3.1 in c:\\users\\muarrikh yazka\\anaconda3\\lib\\site-packages (from textblob) (3.6.1)\n",
      "Requirement already satisfied: click in c:\\users\\muarrikh yazka\\anaconda3\\lib\\site-packages (from nltk>=3.1->textblob) (8.1.3)\n",
      "Requirement already satisfied: regex in c:\\users\\muarrikh yazka\\anaconda3\\lib\\site-packages (from nltk>=3.1->textblob) (2021.4.4)\n",
      "Requirement already satisfied: joblib in c:\\users\\muarrikh yazka\\appdata\\roaming\\python\\python38\\site-packages (from nltk>=3.1->textblob) (1.2.0)\n",
      "Requirement already satisfied: tqdm in c:\\users\\muarrikh yazka\\anaconda3\\lib\\site-packages (from nltk>=3.1->textblob) (4.59.0)\n",
      "Requirement already satisfied: colorama in c:\\users\\muarrikh yazka\\anaconda3\\lib\\site-packages (from click->nltk>=3.1->textblob) (0.4.4)\n"
     ]
    }
   ],
   "source": [
    "import numpy as np\n",
    "import pandas as pd\n",
    "from tqdm import tqdm\n",
    "import gc\n",
    "\n",
    "## scrapper\n",
    "!pip install google_play_scraper\n",
    "from google_play_scraper import reviews_all, Sort\n",
    "\n",
    "## for plotting\n",
    "import matplotlib.pyplot as plt\n",
    "import seaborn as sns\n",
    "sns.set()\n",
    "!pip install wordcloud\n",
    "import wordcloud\n",
    "\n",
    "## for text processing\n",
    "import re\n",
    "import nltk\n",
    "nltk.download('stopwords')\n",
    "nltk.download('wordnet')\n",
    "nltk.download('punkt')\n",
    "\n",
    "## for sentiment\n",
    "!pip install textblob\n",
    "from textblob import TextBlob\n",
    "\n",
    "## for vectorizer\n",
    "from sklearn import feature_extraction, manifold\n",
    "\n",
    "## for predict\n",
    "# !pip install transformers\n",
    "# from transformers import AutoModelForSequenceClassification, AutoTokenizer\n",
    "# from transformers import logging\n",
    "# !pip install torch\n",
    "# import torch\n"
   ]
  },
  {
   "cell_type": "markdown",
   "id": "acc22791",
   "metadata": {},
   "source": [
    "<h2>Scrapping</h2>"
   ]
  },
  {
   "cell_type": "code",
   "execution_count": 20,
   "id": "e594672e",
   "metadata": {},
   "outputs": [],
   "source": [
    "## input application package name\n",
    "app_package_name = 'com.netflix.ninja'\n",
    "\n",
    "## run scrapping\n",
    "result = reviews_all(\n",
    "    app_package_name,\n",
    "    sleep_milliseconds=2, # defaults to 0\n",
    "    lang='en', # defaults to 'en'\n",
    "    country='us', # defaults to 'us'\n",
    "    sort=Sort.NEWEST, # defaults to Sort.MOST_RELEVANT\n",
    ")"
   ]
  },
  {
   "cell_type": "code",
   "execution_count": 21,
   "id": "b39b0058",
   "metadata": {},
   "outputs": [
    {
     "data": {
      "text/plain": [
       "1007"
      ]
     },
     "execution_count": 21,
     "metadata": {},
     "output_type": "execute_result"
    }
   ],
   "source": [
    "## checking\n",
    "len(result)"
   ]
  },
  {
   "cell_type": "markdown",
   "id": "d1bf8540",
   "metadata": {},
   "source": [
    "<h2>Exploration</h2>"
   ]
  },
  {
   "cell_type": "code",
   "execution_count": 22,
   "id": "14294b80",
   "metadata": {},
   "outputs": [],
   "source": [
    "## assign dataframe\n",
    "# df_raw = pd.DataFrame.from_records(result)\n",
    "df_raw = pd.read_csv(r'data/data-for-text-analysis-streamlit.csv', sep=';')"
   ]
  },
  {
   "cell_type": "code",
   "execution_count": 23,
   "id": "1d045f7c",
   "metadata": {},
   "outputs": [],
   "source": [
    "## assign dataframe\n",
    "df = df_raw.copy()"
   ]
  },
  {
   "cell_type": "code",
   "execution_count": 24,
   "id": "0f1ecd5c",
   "metadata": {},
   "outputs": [
    {
     "data": {
      "text/plain": [
       "Index(['reviewId', 'userName', 'userImage', 'content', 'score',\n",
       "       'thumbsUpCount', 'reviewCreatedVersion', 'at', 'replyContent',\n",
       "       'repliedAt', 'content_clean', 'predicted_category', 'sentiment'],\n",
       "      dtype='object')"
      ]
     },
     "execution_count": 24,
     "metadata": {},
     "output_type": "execute_result"
    }
   ],
   "source": [
    "## check column name\n",
    "df_raw.columns"
   ]
  },
  {
   "cell_type": "code",
   "execution_count": 25,
   "id": "030a3cf1",
   "metadata": {},
   "outputs": [
    {
     "data": {
      "text/html": [
       "<div>\n",
       "<style scoped>\n",
       "    .dataframe tbody tr th:only-of-type {\n",
       "        vertical-align: middle;\n",
       "    }\n",
       "\n",
       "    .dataframe tbody tr th {\n",
       "        vertical-align: top;\n",
       "    }\n",
       "\n",
       "    .dataframe thead th {\n",
       "        text-align: right;\n",
       "    }\n",
       "</style>\n",
       "<table border=\"1\" class=\"dataframe\">\n",
       "  <thead>\n",
       "    <tr style=\"text-align: right;\">\n",
       "      <th></th>\n",
       "      <th>reviewId</th>\n",
       "      <th>userName</th>\n",
       "      <th>userImage</th>\n",
       "      <th>content</th>\n",
       "      <th>score</th>\n",
       "      <th>thumbsUpCount</th>\n",
       "      <th>reviewCreatedVersion</th>\n",
       "      <th>at</th>\n",
       "      <th>replyContent</th>\n",
       "      <th>repliedAt</th>\n",
       "      <th>content_clean</th>\n",
       "      <th>predicted_category</th>\n",
       "      <th>sentiment</th>\n",
       "    </tr>\n",
       "  </thead>\n",
       "  <tbody>\n",
       "    <tr>\n",
       "      <th>0</th>\n",
       "      <td>6a16e5f9-8425-45dd-8ba5-6d4f69636923</td>\n",
       "      <td>94 memento (‪Theintan Win‬)</td>\n",
       "      <td>https://play-lh.googleusercontent.com/a-/AD5-W...</td>\n",
       "      <td>sorry we could not rerach the netflix service....</td>\n",
       "      <td>1</td>\n",
       "      <td>0</td>\n",
       "      <td>9.0.6 build 17025</td>\n",
       "      <td>2023-01-20 18:52:11</td>\n",
       "      <td>NaN</td>\n",
       "      <td>NaN</td>\n",
       "      <td>sorry could rerach netflix serviceplease check...</td>\n",
       "      <td>INTERFACE</td>\n",
       "      <td>NEUTRAL</td>\n",
       "    </tr>\n",
       "    <tr>\n",
       "      <th>1</th>\n",
       "      <td>7c658fa8-fcbf-4ed7-bb8f-d99dffb06485</td>\n",
       "      <td>Marwan Elhakim</td>\n",
       "      <td>https://play-lh.googleusercontent.com/a/AEdFTp...</td>\n",
       "      <td>perfect</td>\n",
       "      <td>5</td>\n",
       "      <td>0</td>\n",
       "      <td>9.0.5 build 11217</td>\n",
       "      <td>2023-01-20 01:33:34</td>\n",
       "      <td>NaN</td>\n",
       "      <td>NaN</td>\n",
       "      <td>perfect</td>\n",
       "      <td>USER_EXPERIENCE</td>\n",
       "      <td>POSITIVE</td>\n",
       "    </tr>\n",
       "    <tr>\n",
       "      <th>2</th>\n",
       "      <td>d929ea55-2417-4e27-8f97-9adc6d16f3ad</td>\n",
       "      <td>anadi sthapak</td>\n",
       "      <td>https://play-lh.googleusercontent.com/a-/AD5-W...</td>\n",
       "      <td>too much lag.kindly fix it</td>\n",
       "      <td>1</td>\n",
       "      <td>0</td>\n",
       "      <td>9.0.5 build 11217</td>\n",
       "      <td>2023-01-18 13:04:13</td>\n",
       "      <td>NaN</td>\n",
       "      <td>NaN</td>\n",
       "      <td>much lagkindly fix</td>\n",
       "      <td>USER_EXPERIENCE</td>\n",
       "      <td>NEUTRAL</td>\n",
       "    </tr>\n",
       "    <tr>\n",
       "      <th>3</th>\n",
       "      <td>da2f550c-005e-41a5-8439-d9f43b983906</td>\n",
       "      <td>Sean Terrence Quilang</td>\n",
       "      <td>https://play-lh.googleusercontent.com/a-/AD5-W...</td>\n",
       "      <td>netflix is not sign in</td>\n",
       "      <td>1</td>\n",
       "      <td>0</td>\n",
       "      <td>9.0.5 build 11217</td>\n",
       "      <td>2023-01-17 10:24:18</td>\n",
       "      <td>NaN</td>\n",
       "      <td>NaN</td>\n",
       "      <td>netflix sign</td>\n",
       "      <td>USER_EXPERIENCE</td>\n",
       "      <td>NEUTRAL</td>\n",
       "    </tr>\n",
       "    <tr>\n",
       "      <th>4</th>\n",
       "      <td>f6af7011-c954-4e4d-a292-a7d7977e1e86</td>\n",
       "      <td>Chad Urban</td>\n",
       "      <td>https://play-lh.googleusercontent.com/a/AEdFTp...</td>\n",
       "      <td>because it has so many options</td>\n",
       "      <td>5</td>\n",
       "      <td>0</td>\n",
       "      <td>8.3.4 build 4625</td>\n",
       "      <td>2023-01-16 22:35:30</td>\n",
       "      <td>NaN</td>\n",
       "      <td>NaN</td>\n",
       "      <td>many option</td>\n",
       "      <td>INTERFACE</td>\n",
       "      <td>NEUTRAL</td>\n",
       "    </tr>\n",
       "  </tbody>\n",
       "</table>\n",
       "</div>"
      ],
      "text/plain": [
       "                               reviewId                     userName  \\\n",
       "0  6a16e5f9-8425-45dd-8ba5-6d4f69636923  94 memento (‪Theintan Win‬)   \n",
       "1  7c658fa8-fcbf-4ed7-bb8f-d99dffb06485               Marwan Elhakim   \n",
       "2  d929ea55-2417-4e27-8f97-9adc6d16f3ad                anadi sthapak   \n",
       "3  da2f550c-005e-41a5-8439-d9f43b983906        Sean Terrence Quilang   \n",
       "4  f6af7011-c954-4e4d-a292-a7d7977e1e86                   Chad Urban   \n",
       "\n",
       "                                           userImage  \\\n",
       "0  https://play-lh.googleusercontent.com/a-/AD5-W...   \n",
       "1  https://play-lh.googleusercontent.com/a/AEdFTp...   \n",
       "2  https://play-lh.googleusercontent.com/a-/AD5-W...   \n",
       "3  https://play-lh.googleusercontent.com/a-/AD5-W...   \n",
       "4  https://play-lh.googleusercontent.com/a/AEdFTp...   \n",
       "\n",
       "                                             content  score  thumbsUpCount  \\\n",
       "0  sorry we could not rerach the netflix service....      1              0   \n",
       "1                                            perfect      5              0   \n",
       "2                         too much lag.kindly fix it      1              0   \n",
       "3                             netflix is not sign in      1              0   \n",
       "4                     because it has so many options      5              0   \n",
       "\n",
       "  reviewCreatedVersion                   at  replyContent  repliedAt  \\\n",
       "0    9.0.6 build 17025  2023-01-20 18:52:11           NaN        NaN   \n",
       "1    9.0.5 build 11217  2023-01-20 01:33:34           NaN        NaN   \n",
       "2    9.0.5 build 11217  2023-01-18 13:04:13           NaN        NaN   \n",
       "3    9.0.5 build 11217  2023-01-17 10:24:18           NaN        NaN   \n",
       "4     8.3.4 build 4625  2023-01-16 22:35:30           NaN        NaN   \n",
       "\n",
       "                                       content_clean predicted_category  \\\n",
       "0  sorry could rerach netflix serviceplease check...          INTERFACE   \n",
       "1                                            perfect    USER_EXPERIENCE   \n",
       "2                                 much lagkindly fix    USER_EXPERIENCE   \n",
       "3                                       netflix sign    USER_EXPERIENCE   \n",
       "4                                        many option          INTERFACE   \n",
       "\n",
       "  sentiment  \n",
       "0   NEUTRAL  \n",
       "1  POSITIVE  \n",
       "2   NEUTRAL  \n",
       "3   NEUTRAL  \n",
       "4   NEUTRAL  "
      ]
     },
     "execution_count": 25,
     "metadata": {},
     "output_type": "execute_result"
    }
   ],
   "source": [
    "## checking\n",
    "df.head()"
   ]
  },
  {
   "cell_type": "code",
   "execution_count": 26,
   "id": "64878853",
   "metadata": {},
   "outputs": [
    {
     "data": {
      "text/plain": [
       "(338, 13)"
      ]
     },
     "execution_count": 26,
     "metadata": {},
     "output_type": "execute_result"
    }
   ],
   "source": [
    "## checking\n",
    "df.shape"
   ]
  },
  {
   "cell_type": "code",
   "execution_count": 27,
   "id": "0cf2b9c0",
   "metadata": {},
   "outputs": [
    {
     "data": {
      "text/plain": [
       "reviewId                 object\n",
       "userName                 object\n",
       "userImage                object\n",
       "content                  object\n",
       "score                     int64\n",
       "thumbsUpCount             int64\n",
       "reviewCreatedVersion     object\n",
       "at                       object\n",
       "replyContent            float64\n",
       "repliedAt               float64\n",
       "content_clean            object\n",
       "predicted_category       object\n",
       "sentiment                object\n",
       "dtype: object"
      ]
     },
     "execution_count": 27,
     "metadata": {},
     "output_type": "execute_result"
    }
   ],
   "source": [
    "## checking\n",
    "df.dtypes"
   ]
  },
  {
   "cell_type": "code",
   "execution_count": 28,
   "id": "180c960e",
   "metadata": {},
   "outputs": [
    {
     "data": {
      "text/plain": [
       "array([1, 5, 2, 3, 4], dtype=int64)"
      ]
     },
     "execution_count": 28,
     "metadata": {},
     "output_type": "execute_result"
    }
   ],
   "source": [
    "## checking\n",
    "df.score.unique()"
   ]
  },
  {
   "cell_type": "code",
   "execution_count": 29,
   "id": "fcf27f2d",
   "metadata": {},
   "outputs": [
    {
     "data": {
      "text/plain": [
       "'2014-07-26 15:54:17'"
      ]
     },
     "execution_count": 29,
     "metadata": {},
     "output_type": "execute_result"
    }
   ],
   "source": [
    "## checking\n",
    "min(df['at'])"
   ]
  },
  {
   "cell_type": "code",
   "execution_count": 30,
   "id": "3a3d3fea",
   "metadata": {},
   "outputs": [
    {
     "data": {
      "image/png": "[encoded data removed]",
      "text/plain": [
       "<Figure size 432x288 with 1 Axes>"
      ]
     },
     "metadata": {},
     "output_type": "display_data"
    },
    {
     "data": {
      "text/plain": [
       "reviewId                  0\n",
       "userName                  0\n",
       "userImage                 0\n",
       "content                   0\n",
       "score                     0\n",
       "thumbsUpCount             0\n",
       "reviewCreatedVersion     13\n",
       "at                        0\n",
       "replyContent            338\n",
       "repliedAt               338\n",
       "content_clean             1\n",
       "predicted_category        0\n",
       "sentiment                 0\n",
       "dtype: int64"
      ]
     },
     "metadata": {},
     "output_type": "display_data"
    }
   ],
   "source": [
    "## check missing value\n",
    "nans = df.isna().sum()\n",
    "nans_x = nans.index.to_list()\n",
    "nans_y = nans.values\n",
    "plt.bar(nans_x, nans_y)\n",
    "plt.xticks(rotation=60)\n",
    "plt.show()\n",
    "display(nans)"
   ]
  },
  {
   "cell_type": "code",
   "execution_count": 31,
   "id": "c7fb9fb2",
   "metadata": {},
   "outputs": [
    {
     "data": {
      "image/png": "[encoded data removed]",
      "text/plain": [
       "<Figure size 432x288 with 1 Axes>"
      ]
     },
     "metadata": {},
     "output_type": "display_data"
    }
   ],
   "source": [
    "## calculate word length\n",
    "review_len=df['content'].str.split().map(lambda x: len(x))\n",
    "plt.hist(review_len,color='blue', bins=100)\n",
    "plt.title('Word lengths')\n",
    "plt.show()"
   ]
  },
  {
   "cell_type": "markdown",
   "id": "6834e2ba",
   "metadata": {},
   "source": [
    "<h2>Preprocessing</h2>"
   ]
  },
  {
   "cell_type": "code",
   "execution_count": 32,
   "id": "8368563a",
   "metadata": {},
   "outputs": [],
   "source": [
    "## function to do all preprocessing\n",
    "def utils_preprocess_text(text, flg_stemm=False, flg_lemm=True, lst_stopwords=None):\n",
    "    ## clean (convert to lowercase and remove punctuations and characters and then strip)\n",
    "    text = re.sub(r'[^\\w\\s]', '', str(text).lower().strip())\n",
    "            \n",
    "    ## Tokenize (convert from string to list)\n",
    "    lst_text = text.split()\n",
    "    ## remove Stopwords\n",
    "    if lst_stopwords is not None:\n",
    "        lst_text = [word for word in lst_text if word not in \n",
    "                    lst_stopwords]\n",
    "                \n",
    "    ## Stemming (remove -ing, -ly, ...)\n",
    "    if flg_stemm == True:\n",
    "        ps = nltk.stem.porter.PorterStemmer()\n",
    "        lst_text = [ps.stem(word) for word in lst_text]\n",
    "                \n",
    "    ## Lemmatisation (convert the word into root word)\n",
    "    if flg_lemm == True:\n",
    "        lem = nltk.stem.wordnet.WordNetLemmatizer()\n",
    "        lst_text = [lem.lemmatize(word) for word in lst_text]\n",
    "            \n",
    "    ## back to string from list\n",
    "    text = \" \".join(lst_text)\n",
    "    return text"
   ]
  },
  {
   "cell_type": "code",
   "execution_count": 33,
   "id": "7ed7f2f3",
   "metadata": {},
   "outputs": [],
   "source": [
    "## appying function\n",
    "lst_stopwords = nltk.corpus.stopwords.words(\"english\")\n",
    "df['content_clean'] = df['content'].apply(lambda x: utils_preprocess_text(x, flg_stemm=False, flg_lemm=True, lst_stopwords=lst_stopwords))"
   ]
  },
  {
   "cell_type": "code",
   "execution_count": 34,
   "id": "230728a9",
   "metadata": {},
   "outputs": [
    {
     "data": {
      "text/html": [
       "<div>\n",
       "<style scoped>\n",
       "    .dataframe tbody tr th:only-of-type {\n",
       "        vertical-align: middle;\n",
       "    }\n",
       "\n",
       "    .dataframe tbody tr th {\n",
       "        vertical-align: top;\n",
       "    }\n",
       "\n",
       "    .dataframe thead th {\n",
       "        text-align: right;\n",
       "    }\n",
       "</style>\n",
       "<table border=\"1\" class=\"dataframe\">\n",
       "  <thead>\n",
       "    <tr style=\"text-align: right;\">\n",
       "      <th></th>\n",
       "      <th>reviewId</th>\n",
       "      <th>userName</th>\n",
       "      <th>userImage</th>\n",
       "      <th>content</th>\n",
       "      <th>score</th>\n",
       "      <th>thumbsUpCount</th>\n",
       "      <th>reviewCreatedVersion</th>\n",
       "      <th>at</th>\n",
       "      <th>replyContent</th>\n",
       "      <th>repliedAt</th>\n",
       "      <th>content_clean</th>\n",
       "      <th>predicted_category</th>\n",
       "      <th>sentiment</th>\n",
       "    </tr>\n",
       "  </thead>\n",
       "  <tbody>\n",
       "    <tr>\n",
       "      <th>0</th>\n",
       "      <td>6a16e5f9-8425-45dd-8ba5-6d4f69636923</td>\n",
       "      <td>94 memento (‪Theintan Win‬)</td>\n",
       "      <td>https://play-lh.googleusercontent.com/a-/AD5-W...</td>\n",
       "      <td>sorry we could not rerach the netflix service....</td>\n",
       "      <td>1</td>\n",
       "      <td>0</td>\n",
       "      <td>9.0.6 build 17025</td>\n",
       "      <td>2023-01-20 18:52:11</td>\n",
       "      <td>NaN</td>\n",
       "      <td>NaN</td>\n",
       "      <td>sorry could rerach netflix serviceplease check...</td>\n",
       "      <td>INTERFACE</td>\n",
       "      <td>NEUTRAL</td>\n",
       "    </tr>\n",
       "    <tr>\n",
       "      <th>1</th>\n",
       "      <td>7c658fa8-fcbf-4ed7-bb8f-d99dffb06485</td>\n",
       "      <td>Marwan Elhakim</td>\n",
       "      <td>https://play-lh.googleusercontent.com/a/AEdFTp...</td>\n",
       "      <td>perfect</td>\n",
       "      <td>5</td>\n",
       "      <td>0</td>\n",
       "      <td>9.0.5 build 11217</td>\n",
       "      <td>2023-01-20 01:33:34</td>\n",
       "      <td>NaN</td>\n",
       "      <td>NaN</td>\n",
       "      <td>perfect</td>\n",
       "      <td>USER_EXPERIENCE</td>\n",
       "      <td>POSITIVE</td>\n",
       "    </tr>\n",
       "    <tr>\n",
       "      <th>2</th>\n",
       "      <td>d929ea55-2417-4e27-8f97-9adc6d16f3ad</td>\n",
       "      <td>anadi sthapak</td>\n",
       "      <td>https://play-lh.googleusercontent.com/a-/AD5-W...</td>\n",
       "      <td>too much lag.kindly fix it</td>\n",
       "      <td>1</td>\n",
       "      <td>0</td>\n",
       "      <td>9.0.5 build 11217</td>\n",
       "      <td>2023-01-18 13:04:13</td>\n",
       "      <td>NaN</td>\n",
       "      <td>NaN</td>\n",
       "      <td>much lagkindly fix</td>\n",
       "      <td>USER_EXPERIENCE</td>\n",
       "      <td>NEUTRAL</td>\n",
       "    </tr>\n",
       "    <tr>\n",
       "      <th>3</th>\n",
       "      <td>da2f550c-005e-41a5-8439-d9f43b983906</td>\n",
       "      <td>Sean Terrence Quilang</td>\n",
       "      <td>https://play-lh.googleusercontent.com/a-/AD5-W...</td>\n",
       "      <td>netflix is not sign in</td>\n",
       "      <td>1</td>\n",
       "      <td>0</td>\n",
       "      <td>9.0.5 build 11217</td>\n",
       "      <td>2023-01-17 10:24:18</td>\n",
       "      <td>NaN</td>\n",
       "      <td>NaN</td>\n",
       "      <td>netflix sign</td>\n",
       "      <td>USER_EXPERIENCE</td>\n",
       "      <td>NEUTRAL</td>\n",
       "    </tr>\n",
       "    <tr>\n",
       "      <th>4</th>\n",
       "      <td>f6af7011-c954-4e4d-a292-a7d7977e1e86</td>\n",
       "      <td>Chad Urban</td>\n",
       "      <td>https://play-lh.googleusercontent.com/a/AEdFTp...</td>\n",
       "      <td>because it has so many options</td>\n",
       "      <td>5</td>\n",
       "      <td>0</td>\n",
       "      <td>8.3.4 build 4625</td>\n",
       "      <td>2023-01-16 22:35:30</td>\n",
       "      <td>NaN</td>\n",
       "      <td>NaN</td>\n",
       "      <td>many option</td>\n",
       "      <td>INTERFACE</td>\n",
       "      <td>NEUTRAL</td>\n",
       "    </tr>\n",
       "  </tbody>\n",
       "</table>\n",
       "</div>"
      ],
      "text/plain": [
       "                               reviewId                     userName  \\\n",
       "0  6a16e5f9-8425-45dd-8ba5-6d4f69636923  94 memento (‪Theintan Win‬)   \n",
       "1  7c658fa8-fcbf-4ed7-bb8f-d99dffb06485               Marwan Elhakim   \n",
       "2  d929ea55-2417-4e27-8f97-9adc6d16f3ad                anadi sthapak   \n",
       "3  da2f550c-005e-41a5-8439-d9f43b983906        Sean Terrence Quilang   \n",
       "4  f6af7011-c954-4e4d-a292-a7d7977e1e86                   Chad Urban   \n",
       "\n",
       "                                           userImage  \\\n",
       "0  https://play-lh.googleusercontent.com/a-/AD5-W...   \n",
       "1  https://play-lh.googleusercontent.com/a/AEdFTp...   \n",
       "2  https://play-lh.googleusercontent.com/a-/AD5-W...   \n",
       "3  https://play-lh.googleusercontent.com/a-/AD5-W...   \n",
       "4  https://play-lh.googleusercontent.com/a/AEdFTp...   \n",
       "\n",
       "                                             content  score  thumbsUpCount  \\\n",
       "0  sorry we could not rerach the netflix service....      1              0   \n",
       "1                                            perfect      5              0   \n",
       "2                         too much lag.kindly fix it      1              0   \n",
       "3                             netflix is not sign in      1              0   \n",
       "4                     because it has so many options      5              0   \n",
       "\n",
       "  reviewCreatedVersion                   at  replyContent  repliedAt  \\\n",
       "0    9.0.6 build 17025  2023-01-20 18:52:11           NaN        NaN   \n",
       "1    9.0.5 build 11217  2023-01-20 01:33:34           NaN        NaN   \n",
       "2    9.0.5 build 11217  2023-01-18 13:04:13           NaN        NaN   \n",
       "3    9.0.5 build 11217  2023-01-17 10:24:18           NaN        NaN   \n",
       "4     8.3.4 build 4625  2023-01-16 22:35:30           NaN        NaN   \n",
       "\n",
       "                                       content_clean predicted_category  \\\n",
       "0  sorry could rerach netflix serviceplease check...          INTERFACE   \n",
       "1                                            perfect    USER_EXPERIENCE   \n",
       "2                                 much lagkindly fix    USER_EXPERIENCE   \n",
       "3                                       netflix sign    USER_EXPERIENCE   \n",
       "4                                        many option          INTERFACE   \n",
       "\n",
       "  sentiment  \n",
       "0   NEUTRAL  \n",
       "1  POSITIVE  \n",
       "2   NEUTRAL  \n",
       "3   NEUTRAL  \n",
       "4   NEUTRAL  "
      ]
     },
     "execution_count": 34,
     "metadata": {},
     "output_type": "execute_result"
    }
   ],
   "source": [
    "## checking\n",
    "df.head()"
   ]
  },
  {
   "cell_type": "markdown",
   "id": "5060d243",
   "metadata": {},
   "source": [
    "<h2>Simple Analysis</h2>"
   ]
  },
  {
   "cell_type": "code",
   "execution_count": 35,
   "id": "e3f05f20",
   "metadata": {},
   "outputs": [],
   "source": [
    "def show_word_freq(df, text_column):\n",
    "    ## convert to corpus\n",
    "    top=10\n",
    "    corpus = df[text_column]\n",
    "    lst_tokens = nltk.tokenize.word_tokenize(corpus.str.cat(sep=\" \"))\n",
    "\n",
    "\n",
    "    fig, ax = plt.subplots(nrows=1, ncols=2)\n",
    "    fig.suptitle(\"Most frequent words\", fontsize=15)\n",
    "    fig.set_size_inches(18.5, 10.5)\n",
    "        \n",
    "    ## calculate words unigrams\n",
    "    dic_words_freq = nltk.FreqDist(lst_tokens)\n",
    "    dtf_uni = pd.DataFrame(dic_words_freq.most_common(), \n",
    "                        columns=[\"Word\",\"Freq\"])\n",
    "    dtf_uni.set_index(\"Word\").iloc[:top,:].sort_values(by=\"Freq\").plot(\n",
    "                    kind=\"barh\", title=\"Unigrams\", ax=ax[0], \n",
    "                    legend=False).grid(axis='x')\n",
    "    ax[0].set(ylabel=None)\n",
    "        \n",
    "    ## calculate words bigrams\n",
    "    dic_words_freq = nltk.FreqDist(nltk.ngrams(lst_tokens, 2))\n",
    "    dtf_bi = pd.DataFrame(dic_words_freq.most_common(), \n",
    "                        columns=[\"Word\",\"Freq\"])\n",
    "    dtf_bi[\"Word\"] = dtf_bi[\"Word\"].apply(lambda x: \" \".join(\n",
    "                    string for string in x) )\n",
    "    dtf_bi.set_index(\"Word\").iloc[:top,:].sort_values(by=\"Freq\").plot(\n",
    "                    kind=\"barh\", title=\"Bigrams\", ax=ax[1],\n",
    "                    legend=False).grid(axis='x')\n",
    "    ax[1].set(ylabel=None)\n",
    "    plt.show()"
   ]
  },
  {
   "cell_type": "code",
   "execution_count": 36,
   "id": "b9587a13",
   "metadata": {},
   "outputs": [
    {
     "data": {
      "image/png": "[encoded data removed]",
      "text/plain": [
       "<Figure size 1332x756 with 2 Axes>"
      ]
     },
     "metadata": {},
     "output_type": "display_data"
    }
   ],
   "source": [
    "show_word_freq(df, 'content_clean')"
   ]
  },
  {
   "cell_type": "code",
   "execution_count": 37,
   "id": "1511c6b3",
   "metadata": {},
   "outputs": [
    {
     "ename": "NameError",
     "evalue": "name 'corpus' is not defined",
     "output_type": "error",
     "traceback": [
      "\u001b[1;31m---------------------------------------------------------------------------\u001b[0m",
      "\u001b[1;31mNameError\u001b[0m                                 Traceback (most recent call last)",
      "\u001b[1;32m<ipython-input-37-792283400e97>\u001b[0m in \u001b[0;36m<module>\u001b[1;34m\u001b[0m\n\u001b[0;32m      2\u001b[0m wc = wordcloud.WordCloud(background_color='black', max_words=100, \n\u001b[0;32m      3\u001b[0m                          max_font_size=35)\n\u001b[1;32m----> 4\u001b[1;33m \u001b[0mwc\u001b[0m \u001b[1;33m=\u001b[0m \u001b[0mwc\u001b[0m\u001b[1;33m.\u001b[0m\u001b[0mgenerate\u001b[0m\u001b[1;33m(\u001b[0m\u001b[0mstr\u001b[0m\u001b[1;33m(\u001b[0m\u001b[0mcorpus\u001b[0m\u001b[1;33m)\u001b[0m\u001b[1;33m)\u001b[0m\u001b[1;33m\u001b[0m\u001b[1;33m\u001b[0m\u001b[0m\n\u001b[0m\u001b[0;32m      5\u001b[0m \u001b[0mfig\u001b[0m \u001b[1;33m=\u001b[0m \u001b[0mplt\u001b[0m\u001b[1;33m.\u001b[0m\u001b[0mfigure\u001b[0m\u001b[1;33m(\u001b[0m\u001b[0mnum\u001b[0m\u001b[1;33m=\u001b[0m\u001b[1;36m1\u001b[0m\u001b[1;33m)\u001b[0m\u001b[1;33m\u001b[0m\u001b[1;33m\u001b[0m\u001b[0m\n\u001b[0;32m      6\u001b[0m \u001b[0mfig\u001b[0m\u001b[1;33m.\u001b[0m\u001b[0mset_size_inches\u001b[0m\u001b[1;33m(\u001b[0m\u001b[1;36m18.5\u001b[0m\u001b[1;33m,\u001b[0m \u001b[1;36m10.5\u001b[0m\u001b[1;33m)\u001b[0m\u001b[1;33m\u001b[0m\u001b[1;33m\u001b[0m\u001b[0m\n",
      "\u001b[1;31mNameError\u001b[0m: name 'corpus' is not defined"
     ]
    }
   ],
   "source": [
    "## create wordcloud\n",
    "wc = wordcloud.WordCloud(background_color='black', max_words=100, \n",
    "                         max_font_size=35)\n",
    "wc = wc.generate(str(corpus))\n",
    "fig = plt.figure(num=1)\n",
    "fig.set_size_inches(18.5, 10.5)\n",
    "plt.axis('off')\n",
    "plt.imshow(wc, cmap=None)\n",
    "plt.show()"
   ]
  },
  {
   "cell_type": "markdown",
   "id": "5ef43e90",
   "metadata": {},
   "source": [
    "<h2>Modeling</h2>"
   ]
  },
  {
   "cell_type": "markdown",
   "id": "4a142bfd",
   "metadata": {},
   "source": [
    "<h3>Topic Classification</h3>"
   ]
  },
  {
   "cell_type": "code",
   "execution_count": null,
   "id": "06f0bba7",
   "metadata": {},
   "outputs": [],
   "source": [
    "## define label\n",
    "idx_to_label = {\n",
    "    0: 'CONTENT',\n",
    "    1: 'INTERFACE',\n",
    "    2: 'SUBSCRIPTION',\n",
    "    3: 'USER_EXPERIENCE'}"
   ]
  },
  {
   "cell_type": "code",
   "execution_count": null,
   "id": "f035ad74",
   "metadata": {},
   "outputs": [],
   "source": [
    "## load model and tokenizer\n",
    "token = '---------------------------------'\n",
    "\n",
    "model = AutoModelForSequenceClassification.from_pretrained(\"alperiox/autonlp-user-review-classification-536415182\", use_auth_token=token)\n",
    "\n",
    "tokenizer = AutoTokenizer.from_pretrained(\"alperiox/autonlp-user-review-classification-536415182\", use_auth_token=token)"
   ]
  },
  {
   "cell_type": "code",
   "execution_count": null,
   "id": "3dcd5171",
   "metadata": {},
   "outputs": [],
   "source": [
    "## function to predict\n",
    "def predict(texts, model, tokenizer, dictionary):\n",
    "    if type(texts)==str:\n",
    "            texts = [texts]\n",
    "\n",
    "    tokenized = tokenizer(texts, truncation=True, padding=True, return_tensors='pt').to(model.device)\n",
    "    \n",
    "    with torch.no_grad():\n",
    "        output_logits = model(**tokenized).logits\n",
    "\n",
    "    predictions = torch.argmax(output_logits, dim=-1).cpu().numpy()\n",
    "\n",
    "    labeled_preds = [dictionary[prediction] for prediction in predictions]\n",
    "    return labeled_preds"
   ]
  },
  {
   "cell_type": "code",
   "execution_count": null,
   "id": "b11e9506",
   "metadata": {},
   "outputs": [],
   "source": [
    "## run predict\n",
    "preds = predict(df['content_clean'].tolist(), model, tokenizer, idx_to_label)"
   ]
  },
  {
   "cell_type": "code",
   "execution_count": null,
   "id": "4b1dc8da",
   "metadata": {},
   "outputs": [],
   "source": [
    "## check\n",
    "print(set(preds))"
   ]
  },
  {
   "cell_type": "code",
   "execution_count": null,
   "id": "c1300f0f",
   "metadata": {},
   "outputs": [],
   "source": [
    "## assign predict result to main dataframe\n",
    "df_after_predict = df.copy()\n",
    "df_after_predict['predicted_category'] = preds"
   ]
  },
  {
   "cell_type": "code",
   "execution_count": null,
   "id": "dd1a8f56",
   "metadata": {},
   "outputs": [],
   "source": [
    "## checking\n",
    "df_after_predict.head()"
   ]
  },
  {
   "cell_type": "markdown",
   "id": "b6ffe721",
   "metadata": {},
   "source": [
    "<h3>Sentiment Classification</h3>"
   ]
  },
  {
   "cell_type": "code",
   "execution_count": null,
   "id": "4bd6cad7",
   "metadata": {},
   "outputs": [],
   "source": [
    "## define label\n",
    "idx_to_label_sentiments = {\n",
    "    0: 'NEGATIVE',\n",
    "    1: 'NEUTRAL',\n",
    "    2: 'POSITIVE'\n",
    "}"
   ]
  },
  {
   "cell_type": "code",
   "execution_count": null,
   "id": "2cfc8813",
   "metadata": {},
   "outputs": [],
   "source": [
    "contents = df['content_clean'].to_list()\n",
    "\n",
    "# predict 250 samples per step\n",
    "# the calculations should be done in GPU if it is possible\n",
    "device = torch.device('cuda:0' if torch.cuda.is_available() else 'cpu')\n",
    "\n",
    "predictions = []\n",
    "sentiment_predictions = []\n",
    "size = 250\n",
    "\n",
    "# also load the sentiment analysis model\n",
    "sentiment_model_name = 'cardiffnlp/twitter-roberta-base-sentiment'\n",
    "\n",
    "sentimental_analysis_model = AutoModelForSequenceClassification.from_pretrained(sentiment_model_name)\n",
    "sa_tokenizer = AutoTokenizer.from_pretrained(sentiment_model_name)\n",
    "\n",
    "# change to evaluation mode and move the models to the preferred device\n",
    "model.to(device)\n",
    "model.eval()\n",
    "\n",
    "sentimental_analysis_model.eval()\n",
    "sentimental_analysis_model.to(device)\n",
    "\n",
    "## run predict\n",
    "for i in tqdm(range(0, len(contents), size)):\n",
    "    subset = contents[i:i+size]\n",
    "    preds = predict(subset, model, tokenizer, idx_to_label)\n",
    "    sa_preds = predict(subset, sentimental_analysis_model, sa_tokenizer, idx_to_label_sentiments)\n",
    "    predictions.extend(preds)\n",
    "    sentiment_predictions.extend(sa_preds)\n",
    "    # free some memory for the next step\n",
    "    del preds, sa_preds\n",
    "    gc.collect()\n"
   ]
  },
  {
   "cell_type": "code",
   "execution_count": null,
   "id": "6884c610",
   "metadata": {},
   "outputs": [],
   "source": [
    "## assign predict result to main dataframe\n",
    "df_after_predict['sentiment'] = sentiment_predictions"
   ]
  },
  {
   "cell_type": "code",
   "execution_count": null,
   "id": "822be1b7",
   "metadata": {},
   "outputs": [],
   "source": [
    "## checking\n",
    "df_after_predict.head()"
   ]
  },
  {
   "cell_type": "code",
   "execution_count": null,
   "id": "13662602",
   "metadata": {},
   "outputs": [],
   "source": [
    "## save the data for our streamlit to keep the data in one state\n",
    "# df_after_predict.to_csv(r'data/data-for-text-analysis-streamlit.csv', sep=';', index=None)"
   ]
  },
  {
   "cell_type": "code",
   "execution_count": null,
   "id": "3a41f006",
   "metadata": {},
   "outputs": [],
   "source": [
    "## boxplot as validation to compare sentiment and score in review\n",
    "sns.boxplot(y = df_after_predict['score'], x = df_after_predict['sentiment'])"
   ]
  },
  {
   "cell_type": "code",
   "execution_count": null,
   "id": "ddbb9deb",
   "metadata": {},
   "outputs": [],
   "source": [
    "## group by 'predicted_category', 'sentiment'\n",
    "df_grouped = df_after_predict.groupby(['predicted_category', 'sentiment'])['reviewId'].count().reset_index()\n",
    "df_grouped.columns = ['predicted_category', 'sentiment', 'count']"
   ]
  },
  {
   "cell_type": "code",
   "execution_count": null,
   "id": "21f0c6ef",
   "metadata": {},
   "outputs": [],
   "source": [
    "## charting\n",
    "df_grouped.pivot('predicted_category', 'sentiment', 'count').plot(kind='bar')\n",
    "plt.show()"
   ]
  },
  {
   "cell_type": "code",
   "execution_count": null,
   "id": "c29ccdad",
   "metadata": {},
   "outputs": [],
   "source": [
    "## show all chart each sentiment\n",
    "for i in idx_to_label_sentiments.values():\n",
    "    print(i)\n",
    "    show_word_freq(df_after_predict[df_after_predict['sentiment']==i], 'content_clean')"
   ]
  },
  {
   "cell_type": "code",
   "execution_count": null,
   "id": "fdaf8258",
   "metadata": {},
   "outputs": [],
   "source": [
    "## show all chart each category\n",
    "for j in idx_to_label.values():\n",
    "    print(j)\n",
    "    show_word_freq(df_after_predict[df_after_predict['predicted_category']==j], 'content_clean')"
   ]
  },
  {
   "cell_type": "code",
   "execution_count": null,
   "id": "788786de",
   "metadata": {},
   "outputs": [],
   "source": [
    "## show all chart combination between sentiment and category\n",
    "for i in idx_to_label_sentiments.values():\n",
    "    for j in idx_to_label.values():\n",
    "        print(i, 'and', j)\n",
    "        show_word_freq(df_after_predict[(df_after_predict['sentiment']==i)&(df_after_predict['predicted_category']==j)], 'content_clean')\n",
    "    "
   ]
  }
 ],
 "metadata": {
  "kernelspec": {
   "display_name": "Python 3",
   "language": "python",
   "name": "python3"
  },
  "language_info": {
   "codemirror_mode": {
    "name": "ipython",
    "version": 3
   },
   "file_extension": ".py",
   "mimetype": "text/x-python",
   "name": "python",
   "nbconvert_exporter": "python",
   "pygments_lexer": "ipython3",
   "version": "3.8.8"
  },
  "vscode": {
   "interpreter": {
    "hash": "ed07572405776f3cfa39495467be1cde27608b3d591b8d138f4c9b2b47ffeef0"
   }
  }
 },
 "nbformat": 4,
 "nbformat_minor": 5
}
