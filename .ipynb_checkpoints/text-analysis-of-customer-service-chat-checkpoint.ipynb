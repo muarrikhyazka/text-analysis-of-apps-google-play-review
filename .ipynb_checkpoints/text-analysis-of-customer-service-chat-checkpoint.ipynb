{
 "cells": [
  {
   "cell_type": "code",
   "execution_count": 160,
   "id": "3ecddf66",
   "metadata": {},
   "outputs": [
    {
     "name": "stdout",
     "output_type": "stream",
     "text": [
      "Requirement already satisfied: emoji in c:\\users\\muarrikh yazka\\anaconda3\\lib\\site-packages (2.2.0)\n"
     ]
    }
   ],
   "source": [
    "import streamlit as st\n",
    "import numpy as np\n",
    "import pandas as pd\n",
    "import json\n",
    "from tqdm import tqdm\n",
    "\n",
    "import seaborn as sns\n",
    "import matplotlib.pyplot as plt\n",
    "\n",
    "from google_play_scraper import reviews_all\n",
    "\n",
    "## for language detection\n",
    "import langdetect \n",
    "\n",
    "!pip install emoji\n",
    "import emoji"
   ]
  },
  {
   "cell_type": "code",
   "execution_count": 142,
   "id": "e594672e",
   "metadata": {},
   "outputs": [],
   "source": [
    "app_package_name = 'com.netflix.ninja'\n",
    "\n",
    "result = reviews_all(\n",
    "    app_package_name,\n",
    "    sleep_milliseconds=2, # defaults to 0\n",
    "    lang='en', # defaults to 'en'\n",
    "    country='us', # defaults to 'us'\n",
    "    sort=Sort.NEWEST, # defaults to Sort.MOST_RELEVANT\n",
    ")"
   ]
  },
  {
   "cell_type": "code",
   "execution_count": 143,
   "id": "b39b0058",
   "metadata": {},
   "outputs": [
    {
     "data": {
      "text/plain": [
       "328"
      ]
     },
     "execution_count": 143,
     "metadata": {},
     "output_type": "execute_result"
    }
   ],
   "source": [
    "len(result)"
   ]
  },
  {
   "cell_type": "code",
   "execution_count": 144,
   "id": "14294b80",
   "metadata": {},
   "outputs": [],
   "source": [
    "df_raw = pd.DataFrame.from_records(result)"
   ]
  },
  {
   "cell_type": "code",
   "execution_count": 145,
   "id": "9592f3d1",
   "metadata": {},
   "outputs": [],
   "source": [
    "# df_raw = pd.read_excel(r'D:\\Portfolio\\Dataset\\Chat_Team_CaseStudy FINAL.xlsx')"
   ]
  },
  {
   "cell_type": "code",
   "execution_count": 146,
   "id": "1d045f7c",
   "metadata": {},
   "outputs": [],
   "source": [
    "df = df_raw.copy()"
   ]
  },
  {
   "cell_type": "code",
   "execution_count": 147,
   "id": "030a3cf1",
   "metadata": {},
   "outputs": [
    {
     "data": {
      "text/html": [
       "<div>\n",
       "<style scoped>\n",
       "    .dataframe tbody tr th:only-of-type {\n",
       "        vertical-align: middle;\n",
       "    }\n",
       "\n",
       "    .dataframe tbody tr th {\n",
       "        vertical-align: top;\n",
       "    }\n",
       "\n",
       "    .dataframe thead th {\n",
       "        text-align: right;\n",
       "    }\n",
       "</style>\n",
       "<table border=\"1\" class=\"dataframe\">\n",
       "  <thead>\n",
       "    <tr style=\"text-align: right;\">\n",
       "      <th></th>\n",
       "      <th>reviewId</th>\n",
       "      <th>userName</th>\n",
       "      <th>userImage</th>\n",
       "      <th>content</th>\n",
       "      <th>score</th>\n",
       "      <th>thumbsUpCount</th>\n",
       "      <th>reviewCreatedVersion</th>\n",
       "      <th>at</th>\n",
       "      <th>replyContent</th>\n",
       "      <th>repliedAt</th>\n",
       "    </tr>\n",
       "  </thead>\n",
       "  <tbody>\n",
       "    <tr>\n",
       "      <th>0</th>\n",
       "      <td>2caceb01-d089-40eb-92cc-bc7eefbd2c26</td>\n",
       "      <td>Saoirse Kelly</td>\n",
       "      <td>https://play-lh.googleusercontent.com/a-/AD5-W...</td>\n",
       "      <td>Very difficult to navigate app on Chromecast a...</td>\n",
       "      <td>1</td>\n",
       "      <td>2</td>\n",
       "      <td>9.0.5 build 11217</td>\n",
       "      <td>2023-01-06 06:37:20</td>\n",
       "      <td>None</td>\n",
       "      <td>None</td>\n",
       "    </tr>\n",
       "    <tr>\n",
       "      <th>1</th>\n",
       "      <td>338fcd11-6a2d-476d-95da-bbdf66a51b46</td>\n",
       "      <td>N A</td>\n",
       "      <td>https://play-lh.googleusercontent.com/a-/AD5-W...</td>\n",
       "      <td>bloatware can't delete</td>\n",
       "      <td>1</td>\n",
       "      <td>0</td>\n",
       "      <td>8.3.2 build 4580</td>\n",
       "      <td>2023-01-02 02:22:49</td>\n",
       "      <td>None</td>\n",
       "      <td>None</td>\n",
       "    </tr>\n",
       "    <tr>\n",
       "      <th>2</th>\n",
       "      <td>d86ec456-93de-41bf-8eba-8bd28e5463d1</td>\n",
       "      <td>Pichon Snchz</td>\n",
       "      <td>https://play-lh.googleusercontent.com/a-/AD5-W...</td>\n",
       "      <td>does not support Xgimi in 4k</td>\n",
       "      <td>1</td>\n",
       "      <td>0</td>\n",
       "      <td>9.0.5 build 11217</td>\n",
       "      <td>2023-01-02 01:41:04</td>\n",
       "      <td>None</td>\n",
       "      <td>None</td>\n",
       "    </tr>\n",
       "    <tr>\n",
       "      <th>3</th>\n",
       "      <td>58051d10-0738-4dd1-91b5-55c5f8009f5e</td>\n",
       "      <td>Evan McGuire</td>\n",
       "      <td>https://play-lh.googleusercontent.com/a/AEdFTp...</td>\n",
       "      <td>app forever crashing</td>\n",
       "      <td>1</td>\n",
       "      <td>0</td>\n",
       "      <td>8.3.4 build 4625</td>\n",
       "      <td>2022-12-30 18:04:55</td>\n",
       "      <td>None</td>\n",
       "      <td>None</td>\n",
       "    </tr>\n",
       "    <tr>\n",
       "      <th>4</th>\n",
       "      <td>167d60d2-dbf3-4377-9307-a1aec3edc6e1</td>\n",
       "      <td>Vanathaian Johnpeter</td>\n",
       "      <td>https://play-lh.googleusercontent.com/a-/AD5-W...</td>\n",
       "      <td>very poor</td>\n",
       "      <td>1</td>\n",
       "      <td>0</td>\n",
       "      <td>None</td>\n",
       "      <td>2022-12-28 22:35:58</td>\n",
       "      <td>None</td>\n",
       "      <td>None</td>\n",
       "    </tr>\n",
       "  </tbody>\n",
       "</table>\n",
       "</div>"
      ],
      "text/plain": [
       "                               reviewId              userName  \\\n",
       "0  2caceb01-d089-40eb-92cc-bc7eefbd2c26         Saoirse Kelly   \n",
       "1  338fcd11-6a2d-476d-95da-bbdf66a51b46                   N A   \n",
       "2  d86ec456-93de-41bf-8eba-8bd28e5463d1          Pichon Snchz   \n",
       "3  58051d10-0738-4dd1-91b5-55c5f8009f5e          Evan McGuire   \n",
       "4  167d60d2-dbf3-4377-9307-a1aec3edc6e1  Vanathaian Johnpeter   \n",
       "\n",
       "                                           userImage  \\\n",
       "0  https://play-lh.googleusercontent.com/a-/AD5-W...   \n",
       "1  https://play-lh.googleusercontent.com/a-/AD5-W...   \n",
       "2  https://play-lh.googleusercontent.com/a-/AD5-W...   \n",
       "3  https://play-lh.googleusercontent.com/a/AEdFTp...   \n",
       "4  https://play-lh.googleusercontent.com/a-/AD5-W...   \n",
       "\n",
       "                                             content  score  thumbsUpCount  \\\n",
       "0  Very difficult to navigate app on Chromecast a...      1              2   \n",
       "1                             bloatware can't delete      1              0   \n",
       "2                       does not support Xgimi in 4k      1              0   \n",
       "3                               app forever crashing      1              0   \n",
       "4                                          very poor      1              0   \n",
       "\n",
       "  reviewCreatedVersion                  at replyContent repliedAt  \n",
       "0    9.0.5 build 11217 2023-01-06 06:37:20         None      None  \n",
       "1     8.3.2 build 4580 2023-01-02 02:22:49         None      None  \n",
       "2    9.0.5 build 11217 2023-01-02 01:41:04         None      None  \n",
       "3     8.3.4 build 4625 2022-12-30 18:04:55         None      None  \n",
       "4                 None 2022-12-28 22:35:58         None      None  "
      ]
     },
     "execution_count": 147,
     "metadata": {},
     "output_type": "execute_result"
    }
   ],
   "source": [
    "df.head()"
   ]
  },
  {
   "cell_type": "code",
   "execution_count": 148,
   "id": "64878853",
   "metadata": {},
   "outputs": [
    {
     "data": {
      "text/plain": [
       "(328, 10)"
      ]
     },
     "execution_count": 148,
     "metadata": {},
     "output_type": "execute_result"
    }
   ],
   "source": [
    "df.shape"
   ]
  },
  {
   "cell_type": "code",
   "execution_count": 149,
   "id": "0cf2b9c0",
   "metadata": {},
   "outputs": [
    {
     "data": {
      "text/plain": [
       "reviewId                        object\n",
       "userName                        object\n",
       "userImage                       object\n",
       "content                         object\n",
       "score                            int64\n",
       "thumbsUpCount                    int64\n",
       "reviewCreatedVersion            object\n",
       "at                      datetime64[ns]\n",
       "replyContent                    object\n",
       "repliedAt                       object\n",
       "dtype: object"
      ]
     },
     "execution_count": 149,
     "metadata": {},
     "output_type": "execute_result"
    }
   ],
   "source": [
    "df.dtypes"
   ]
  },
  {
   "cell_type": "code",
   "execution_count": 150,
   "id": "180c960e",
   "metadata": {},
   "outputs": [
    {
     "data": {
      "text/plain": [
       "array([1, 2, 3, 5, 4], dtype=int64)"
      ]
     },
     "execution_count": 150,
     "metadata": {},
     "output_type": "execute_result"
    }
   ],
   "source": [
    "df.score.unique()"
   ]
  },
  {
   "cell_type": "code",
   "execution_count": 151,
   "id": "fcf27f2d",
   "metadata": {},
   "outputs": [
    {
     "data": {
      "text/plain": [
       "Timestamp('2014-07-26 15:54:17')"
      ]
     },
     "execution_count": 151,
     "metadata": {},
     "output_type": "execute_result"
    }
   ],
   "source": [
    "min(df['at'])"
   ]
  },
  {
   "cell_type": "code",
   "execution_count": 161,
   "id": "0eb91c9f",
   "metadata": {},
   "outputs": [
    {
     "name": "stdout",
     "output_type": "stream",
     "text": [
      "There are 0 reviews that are just emojis or empty.\n"
     ]
    }
   ],
   "source": [
    "df_ = df.copy()\n",
    "df_['content'] = df_['content'].apply(lambda text: emoji.replace_emoji(str(text), ''))\n",
    "df_['content'] = df_['content'].replace(r'^\\s*$', np.nan, regex=True)\n",
    "emoji_review_indices = df_[df_['content'].isna()].index\n",
    "# set those reviews as NaN in the original df\n",
    "df.loc[emoji_review_indices, 'content'] = np.nan\n",
    "\n",
    "print(f\"There are {len(emoji_review_indices)} reviews that are just emojis or empty.\")"
   ]
  },
  {
   "cell_type": "code",
   "execution_count": 162,
   "id": "3a3d3fea",
   "metadata": {},
   "outputs": [
    {
     "data": {
      "image/png": "[encoded data removed]",
      "text/plain": [
       "<Figure size 432x288 with 1 Axes>"
      ]
     },
     "metadata": {
      "needs_background": "light"
     },
     "output_type": "display_data"
    },
    {
     "data": {
      "text/plain": [
       "reviewId                  0\n",
       "userName                  0\n",
       "userImage                 0\n",
       "content                   0\n",
       "score                     0\n",
       "thumbsUpCount             0\n",
       "reviewCreatedVersion     13\n",
       "at                        0\n",
       "replyContent            328\n",
       "repliedAt               328\n",
       "dtype: int64"
      ]
     },
     "metadata": {},
     "output_type": "display_data"
    }
   ],
   "source": [
    "nans = df.isna().sum()\n",
    "nans_x = nans.index.to_list()\n",
    "nans_y = nans.values\n",
    "plt.bar(nans_x, nans_y)\n",
    "plt.xticks(rotation=60)\n",
    "plt.show()\n",
    "display(nans)"
   ]
  },
  {
   "cell_type": "code",
   "execution_count": 163,
   "id": "eb9bbe3b",
   "metadata": {},
   "outputs": [
    {
     "data": {
      "image/png": "[encoded data removed]",
      "text/plain": [
       "<Figure size 432x288 with 1 Axes>"
      ]
     },
     "metadata": {
      "needs_background": "light"
     },
     "output_type": "display_data"
    }
   ],
   "source": [
    "review_len=df['content'].str.len()\n",
    "plt.hist(review_len,color='blue', bins=100)\n",
    "plt.xlim(-2, 500)\n",
    "plt.title('characters in reviews')\n",
    "plt.show()"
   ]
  },
  {
   "cell_type": "code",
   "execution_count": 165,
   "id": "c7fb9fb2",
   "metadata": {},
   "outputs": [
    {
     "data": {
      "image/png": "[encoded data removed]",
      "text/plain": [
       "<Figure size 432x288 with 1 Axes>"
      ]
     },
     "metadata": {
      "needs_background": "light"
     },
     "output_type": "display_data"
    }
   ],
   "source": [
    "review_len=df['content'].str.split().map(lambda x: len(x))\n",
    "plt.hist(review_len,color='blue', bins=100)\n",
    "plt.title('Word lengths')\n",
    "plt.show()"
   ]
  },
  {
   "cell_type": "code",
   "execution_count": 168,
   "id": "061f3428",
   "metadata": {},
   "outputs": [],
   "source": [
    "def create_corpus():\n",
    "    corpus = []\n",
    "    for x in df['content'].str.lower().str.split():\n",
    "        for i in x:\n",
    "            corpus.append(i)\n",
    "    return corpus\n",
    "\n",
    "corpus = create_corpus()"
   ]
  },
  {
   "cell_type": "code",
   "execution_count": 170,
   "id": "e3f05f20",
   "metadata": {},
   "outputs": [
    {
     "data": {
      "text/plain": [
       "12428"
      ]
     },
     "execution_count": 170,
     "metadata": {},
     "output_type": "execute_result"
    }
   ],
   "source": [
    "len(corpus)"
   ]
  }
 ],
 "metadata": {
  "kernelspec": {
   "display_name": "Python 3",
   "language": "python",
   "name": "python3"
  },
  "language_info": {
   "codemirror_mode": {
    "name": "ipython",
    "version": 3
   },
   "file_extension": ".py",
   "mimetype": "text/x-python",
   "name": "python",
   "nbconvert_exporter": "python",
   "pygments_lexer": "ipython3",
   "version": "3.8.8"
  }
 },
 "nbformat": 4,
 "nbformat_minor": 5
}
